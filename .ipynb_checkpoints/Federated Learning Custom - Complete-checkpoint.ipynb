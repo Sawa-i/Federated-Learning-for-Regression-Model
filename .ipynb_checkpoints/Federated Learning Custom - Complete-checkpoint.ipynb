{
 "cells": [
  {
   "cell_type": "markdown",
   "id": "624c6c0e",
   "metadata": {},
   "source": [
    "## Importing Libraries"
   ]
  },
  {
   "cell_type": "code",
   "execution_count": 1,
   "id": "84898370",
   "metadata": {},
   "outputs": [],
   "source": [
    "\n",
    "import numpy as np\n",
    "import random\n",
    "import cv2\n",
    "import os\n",
    "from imutils import paths\n",
    "from sklearn.model_selection import train_test_split\n",
    "from sklearn.preprocessing import LabelBinarizer\n",
    "from sklearn.model_selection import train_test_split\n",
    "from sklearn.utils import shuffle\n",
    "from sklearn.metrics import mean_squared_error\n",
    "\n",
    "import tensorflow as tf\n",
    "from tensorflow.keras.models import Sequential\n",
    "from tensorflow.keras.layers import Conv2D\n",
    "from tensorflow.keras.layers import MaxPooling2D\n",
    "from tensorflow.keras.layers import Activation\n",
    "from tensorflow.keras.layers import Flatten\n",
    "from tensorflow.keras.layers import Dense\n",
    "from tensorflow.keras.optimizers import SGD\n",
    "from tensorflow.keras.optimizers import Adam\n",
    "from tensorflow.keras import backend as K\n",
    "from keras.layers import Dropout\n",
    "#from fl_mnist_implementation_tutorial_utils import *\n",
    "\n",
    "import pandas as pd\n"
   ]
  },
  {
   "cell_type": "code",
   "execution_count": null,
   "id": "2631add2",
   "metadata": {},
   "outputs": [],
   "source": []
  },
  {
   "cell_type": "code",
   "execution_count": 2,
   "id": "6b798111",
   "metadata": {},
   "outputs": [
    {
     "name": "stdout",
     "output_type": "stream",
     "text": [
      " Dataset_CORN.csv                              IOWA_CORN_DATASET.csv\r\n",
      " Dataset_without_extracolumn.csv               Soil_Name.xlsx\r\n",
      "'Federated Learning Custom - Complete.ipynb'   \u001b[0m\u001b[01;34mtutorial\u001b[0m/\r\n",
      " ILLINOIS_Dataset_CORN.csv                     Weather_Name.csv\r\n",
      " INDIANA_Dataset_CORN.csv\r\n"
     ]
    }
   ],
   "source": [
    "ls"
   ]
  },
  {
   "cell_type": "code",
   "execution_count": 3,
   "id": "13a6c10f",
   "metadata": {},
   "outputs": [],
   "source": [
    "# Required Columns ( Data & Label )\n",
    "df = pd.read_csv('Dataset_without_extracolumn.csv') \n",
    "    \n",
    "data_names = list(df.columns[:-1])\n",
    "label_name = df.columns[-1]"
   ]
  },
  {
   "cell_type": "markdown",
   "id": "54154781",
   "metadata": {},
   "source": [
    "## Reading and preprocessing CORN data sets of 3 Clients\n"
   ]
  },
  {
   "cell_type": "code",
   "execution_count": 4,
   "id": "bdef8495",
   "metadata": {},
   "outputs": [],
   "source": [
    "\n",
    "def load(path):\n",
    "    df = pd.read_csv(path)\n",
    "    data = df[data_names].values.tolist()\n",
    "    labels = df[label_name].values.tolist()\n",
    "    for i in range(len(labels)):\n",
    "        labels[i] = [labels[i]]\n",
    "    # return a tuple of the data and labels\n",
    "    return data, labels\n"
   ]
  },
  {
   "cell_type": "code",
   "execution_count": null,
   "id": "54dfea46",
   "metadata": {},
   "outputs": [],
   "source": []
  },
  {
   "cell_type": "markdown",
   "id": "e5bf499b",
   "metadata": {},
   "source": [
    "## Creating train-test split for 3 clients, Plus Merging for final Test Data-Label"
   ]
  },
  {
   "cell_type": "code",
   "execution_count": 5,
   "id": "e34026be",
   "metadata": {},
   "outputs": [],
   "source": [
    "clients_files = ['ILLINOIS_Dataset_CORN.csv', \"INDIANA_Dataset_CORN.csv\", \"IOWA_CORN_DATASET.csv\"]\n",
    "\n",
    "clients_data = []\n",
    "test_data = [[],[]]\n",
    "\n",
    "for client_file in clients_files:\n",
    "    data_list, label_list = load(client_file)\n",
    "    \n",
    "    X_train, X_test, Y_train, Y_test = train_test_split(data_list, \n",
    "                                                    label_list, \n",
    "                                                    test_size=0.1, \n",
    "                                                    random_state=42)\n",
    "    clients_data.append([X_train, Y_train])\n",
    "    test_data[0].extend(X_test)\n",
    "    test_data[1].extend(Y_test)\n",
    "    \n",
    "X_test, y_test = test_data\n",
    "    "
   ]
  },
  {
   "cell_type": "markdown",
   "id": "a43223f5",
   "metadata": {},
   "source": [
    "## Federated Members (clients) as Data Shards\n"
   ]
  },
  {
   "cell_type": "code",
   "execution_count": 6,
   "id": "6b3856e2",
   "metadata": {},
   "outputs": [],
   "source": [
    "# Function to distribute dataset among clients and return a dictionary{ client : datashard (part of dataset)}\n",
    "\n",
    "def create_clients(clients_data, initial='clients'):\n",
    "    ''' return: a dictionary with keys clients' names and value as \n",
    "                data shards - data and label lists.\n",
    "        args: \n",
    "            clients_data: List of clients data in \"[data_list,label_list]\" format\n",
    "            initials: the clients'name prefix, e.g, clients_1 \n",
    "            \n",
    "    '''\n",
    "    #create a list of client names\n",
    "    num_clients = len(clients_data)\n",
    "    client_names = ['{}_{}'.format(initial, i+1) for i in range(num_clients)]\n",
    "    \n",
    "    temp_dic = {}\n",
    "    for i in range(len(client_names)):\n",
    "        data0,data1 = clients_data[i]\n",
    "        data = list(zip(data0,data1))\n",
    "        temp_dic[client_names[i]] = data\n",
    "\n",
    "    return temp_dic "
   ]
  },
  {
   "cell_type": "code",
   "execution_count": 7,
   "id": "12319cf2",
   "metadata": {},
   "outputs": [],
   "source": [
    "#create clients\n",
    "clients = create_clients(clients_data, initial='client')"
   ]
  },
  {
   "cell_type": "code",
   "execution_count": 8,
   "id": "22801d34",
   "metadata": {},
   "outputs": [
    {
     "data": {
      "text/plain": [
       "dict_keys(['client_1', 'client_2', 'client_3'])"
      ]
     },
     "execution_count": 8,
     "metadata": {},
     "output_type": "execute_result"
    }
   ],
   "source": [
    "clients.keys()"
   ]
  },
  {
   "cell_type": "markdown",
   "id": "774c0c72",
   "metadata": {},
   "source": [
    "## Processing and batching clients’ and test data\n"
   ]
  },
  {
   "cell_type": "code",
   "execution_count": 9,
   "id": "2279e94d",
   "metadata": {},
   "outputs": [],
   "source": [
    "# Function to prepare client's dataset for tensorflow, A Reusable function for all clients\n",
    "\n",
    "def batch_data(data_shard, bs=32):\n",
    "    '''Takes in a clients data shard and create a tfds object off it\n",
    "    args:\n",
    "        shard: a data, label constituting a client's data shard\n",
    "        bs:batch size\n",
    "    return:\n",
    "        tfds object'''\n",
    "    #seperate shard into data and labels lists\n",
    "    data, label = zip(*data_shard)\n",
    "    \n",
    "    dataset = tf.data.Dataset.from_tensor_slices((list(data), list(label)))\n",
    "    \n",
    "    return dataset.shuffle(len(label)).batch(bs)"
   ]
  },
  {
   "cell_type": "code",
   "execution_count": 10,
   "id": "7b65fab6",
   "metadata": {},
   "outputs": [
    {
     "name": "stderr",
     "output_type": "stream",
     "text": [
      "2022-08-08 02:46:00.454193: E tensorflow/stream_executor/cuda/cuda_driver.cc:271] failed call to cuInit: CUDA_ERROR_NO_DEVICE: no CUDA-capable device is detected\n",
      "2022-08-08 02:46:00.454234: I tensorflow/stream_executor/cuda/cuda_diagnostics.cc:156] kernel driver does not appear to be running on this host (slash-gt73vr-6re): /proc/driver/nvidia/version does not exist\n",
      "2022-08-08 02:46:00.454772: I tensorflow/core/platform/cpu_feature_guard.cc:151] This TensorFlow binary is optimized with oneAPI Deep Neural Network Library (oneDNN) to use the following CPU instructions in performance-critical operations:  AVX2 FMA\n",
      "To enable them in other operations, rebuild TensorFlow with the appropriate compiler flags.\n"
     ]
    }
   ],
   "source": [
    "#process and batch the training data for each client\n",
    "clients_batched = dict()\n",
    "for (client_name, data) in clients.items():\n",
    "    clients_batched[client_name] = batch_data(data)\n",
    "    \n",
    "#process and batch the test set  \n",
    "test_batched = tf.data.Dataset.from_tensor_slices((X_test, y_test)).batch(len(y_test))"
   ]
  },
  {
   "cell_type": "code",
   "execution_count": null,
   "id": "5b0040b7",
   "metadata": {},
   "outputs": [],
   "source": []
  },
  {
   "cell_type": "code",
   "execution_count": null,
   "id": "6fbc9bc3",
   "metadata": {},
   "outputs": [],
   "source": []
  },
  {
   "cell_type": "markdown",
   "id": "a88cb4c2",
   "metadata": {},
   "source": [
    "## Creating the Multi Layer Perceptron (MLP) model\n"
   ]
  },
  {
   "cell_type": "code",
   "execution_count": 11,
   "id": "7dfb94e5",
   "metadata": {},
   "outputs": [],
   "source": [
    "class SimpleMLP:\n",
    "    @staticmethod\n",
    "    def build(shape, classes):\n",
    "        model = Sequential()\n",
    "        model.add(Dense(50, input_shape=(shape,)))\n",
    "        model.add(Activation(\"relu\"))\n",
    "        model.add(Dropout(0.5))\n",
    "        model.add(Dense(100))\n",
    "        model.add(Activation(\"relu\"))\n",
    "#         model.add(Dense(50))\n",
    "#         model.add(Activation(\"relu\"))\n",
    "        model.add(Dense(classes))\n",
    "        model.add(Activation(\"linear\"))\n",
    "        return model"
   ]
  },
  {
   "cell_type": "code",
   "execution_count": 12,
   "id": "f719b359",
   "metadata": {},
   "outputs": [
    {
     "name": "stderr",
     "output_type": "stream",
     "text": [
      "/home/slash/Local Disk Egg/University/FYP/fypEnv/lib/python3.8/site-packages/keras/optimizer_v2/gradient_descent.py:102: UserWarning: The `lr` argument is deprecated, use `learning_rate` instead.\n",
      "  super(SGD, self).__init__(name, **kwargs)\n"
     ]
    }
   ],
   "source": [
    "\n",
    "lr = 0.01 \n",
    "comms_round = 100\n",
    "loss='mean_absolute_error'\n",
    "#metrics = ['mean_squared_error']\n",
    "metrics=['mean_squared_error', 'mean_absolute_error', 'mean_absolute_percentage_error', 'cosine_proximity']\n",
    "optimizer = SGD(lr=lr, \n",
    "                decay=lr / comms_round, \n",
    "                momentum=0.9\n",
    "               )           \n",
    "\n",
    "#optimizer = Adam(learning_rate=lr, decay=lr/comms_round)\n"
   ]
  },
  {
   "cell_type": "code",
   "execution_count": null,
   "id": "0ede293e",
   "metadata": {},
   "outputs": [],
   "source": []
  },
  {
   "cell_type": "markdown",
   "id": "5251209d",
   "metadata": {},
   "source": [
    "## Model Aggregation (Federated Averaging)\n",
    "\n",
    "\n"
   ]
  },
  {
   "cell_type": "code",
   "execution_count": 13,
   "id": "a04d5c07",
   "metadata": {},
   "outputs": [],
   "source": [
    "\n",
    "def weight_scalling_factor(clients_trn_data, client_name):\n",
    "    client_names = list(clients_trn_data.keys())\n",
    "    #get the bs\n",
    "    bs = list(clients_trn_data[client_name])[0][0].shape[0]\n",
    "    #first calculate the total training data points across clinets\n",
    "    global_count = sum([tf.data.experimental.cardinality(clients_trn_data[client_name]).numpy() for client_name in client_names])*bs\n",
    "    # get the total number of data points held by a client\n",
    "    local_count = tf.data.experimental.cardinality(clients_trn_data[client_name]).numpy()*bs\n",
    "    return local_count/global_count\n",
    "\n",
    "\n",
    "def scale_model_weights(weight, scalar):\n",
    "    '''function for scaling a models weights'''\n",
    "    weight_final = []\n",
    "    steps = len(weight)\n",
    "    for i in range(steps):\n",
    "        weight_final.append(scalar * weight[i])\n",
    "    return weight_final\n",
    "\n",
    "\n",
    "\n",
    "def sum_scaled_weights(scaled_weight_list):\n",
    "    '''Return the sum of the listed scaled weights. The is equivalent to scaled avg of the weights'''\n",
    "    avg_grad = list()\n",
    "    #get the average grad accross all client gradients\n",
    "    for grad_list_tuple in zip(*scaled_weight_list):\n",
    "        layer_mean = tf.math.reduce_sum(grad_list_tuple, axis=0)\n",
    "        avg_grad.append(layer_mean)\n",
    "        \n",
    "    return avg_grad\n",
    "\n",
    "\n",
    "def test_model(X_test, Y_test,  model, comm_round):\n",
    "    msl = tf.keras.losses.MeanSquaredError()\n",
    "    #logits = model.predict(X_test, batch_size=100)\n",
    "    logits = model.predict(X_test)\n",
    "    loss = msl(Y_test, logits)\n",
    "    print('comm_round: {} | global_loss: {}'.format(comm_round, loss))\n",
    "    mse = 404\n",
    "    return mse, loss\n"
   ]
  },
  {
   "cell_type": "markdown",
   "id": "74197795",
   "metadata": {},
   "source": [
    "## Federated Model Training\n"
   ]
  },
  {
   "cell_type": "code",
   "execution_count": 14,
   "id": "7badab18",
   "metadata": {},
   "outputs": [],
   "source": [
    "i = len(data_names)\n",
    "o = 1\n",
    "\n",
    "hist = [[],[]]"
   ]
  },
  {
   "cell_type": "code",
   "execution_count": 15,
   "id": "2592424a",
   "metadata": {
    "scrolled": false
   },
   "outputs": [
    {
     "name": "stdout",
     "output_type": "stream",
     "text": [
      "comm_round: 0 | global_loss: 9444622.0\n",
      "comm_round: 1 | global_loss: 18981.73828125\n",
      "comm_round: 2 | global_loss: 16951.650390625\n",
      "comm_round: 3 | global_loss: 15092.8974609375\n",
      "comm_round: 4 | global_loss: 13394.931640625\n",
      "comm_round: 5 | global_loss: 11849.4560546875\n",
      "comm_round: 6 | global_loss: 10445.251953125\n",
      "comm_round: 7 | global_loss: 9180.6044921875\n",
      "comm_round: 8 | global_loss: 8042.85791015625\n",
      "comm_round: 9 | global_loss: 7029.4345703125\n",
      "comm_round: 10 | global_loss: 6135.5244140625\n",
      "comm_round: 11 | global_loss: 5350.9345703125\n",
      "comm_round: 12 | global_loss: 4666.70849609375\n",
      "comm_round: 13 | global_loss: 4076.214111328125\n",
      "comm_round: 14 | global_loss: 3570.402099609375\n",
      "comm_round: 15 | global_loss: 3140.01708984375\n",
      "comm_round: 16 | global_loss: 2777.878173828125\n",
      "comm_round: 17 | global_loss: 2475.539306640625\n",
      "comm_round: 18 | global_loss: 2228.2333984375\n",
      "comm_round: 19 | global_loss: 2029.8297119140625\n",
      "comm_round: 20 | global_loss: 1870.8692626953125\n",
      "comm_round: 21 | global_loss: 1746.8797607421875\n",
      "comm_round: 22 | global_loss: 1646.7080078125\n",
      "comm_round: 23 | global_loss: 1568.7181396484375\n",
      "comm_round: 24 | global_loss: 1507.0528564453125\n",
      "comm_round: 25 | global_loss: 1457.9857177734375\n",
      "comm_round: 26 | global_loss: 1419.2230224609375\n",
      "comm_round: 27 | global_loss: 1388.6641845703125\n",
      "comm_round: 28 | global_loss: 1364.407470703125\n",
      "comm_round: 29 | global_loss: 1344.8631591796875\n",
      "comm_round: 30 | global_loss: 1330.102294921875\n",
      "comm_round: 31 | global_loss: 1317.923095703125\n",
      "comm_round: 32 | global_loss: 1307.8253173828125\n",
      "comm_round: 33 | global_loss: 1299.1240234375\n",
      "comm_round: 34 | global_loss: 1292.1474609375\n",
      "comm_round: 35 | global_loss: 1286.584228515625\n",
      "comm_round: 36 | global_loss: 1281.8656005859375\n",
      "comm_round: 37 | global_loss: 1277.8902587890625\n",
      "comm_round: 38 | global_loss: 1274.218505859375\n",
      "comm_round: 39 | global_loss: 1271.5211181640625\n",
      "comm_round: 40 | global_loss: 1269.118896484375\n",
      "comm_round: 41 | global_loss: 1266.8580322265625\n",
      "comm_round: 42 | global_loss: 1265.005615234375\n",
      "comm_round: 43 | global_loss: 1263.2525634765625\n",
      "comm_round: 44 | global_loss: 1261.818359375\n",
      "comm_round: 45 | global_loss: 1260.6353759765625\n",
      "comm_round: 46 | global_loss: 1259.6103515625\n",
      "comm_round: 47 | global_loss: 1258.7613525390625\n",
      "comm_round: 48 | global_loss: 1257.99560546875\n",
      "comm_round: 49 | global_loss: 1257.307861328125\n",
      "comm_round: 50 | global_loss: 1256.647216796875\n",
      "comm_round: 51 | global_loss: 1256.0211181640625\n",
      "comm_round: 52 | global_loss: 1255.5423583984375\n",
      "comm_round: 53 | global_loss: 1255.1102294921875\n",
      "comm_round: 54 | global_loss: 1254.791015625\n",
      "comm_round: 55 | global_loss: 1254.4534912109375\n",
      "comm_round: 56 | global_loss: 1254.167724609375\n",
      "comm_round: 57 | global_loss: 1253.8646240234375\n",
      "comm_round: 58 | global_loss: 1253.5819091796875\n",
      "comm_round: 59 | global_loss: 1253.3616943359375\n",
      "comm_round: 60 | global_loss: 1253.1270751953125\n",
      "comm_round: 61 | global_loss: 1252.9251708984375\n",
      "comm_round: 62 | global_loss: 1252.849853515625\n",
      "comm_round: 63 | global_loss: 1252.6934814453125\n",
      "comm_round: 64 | global_loss: 1252.4696044921875\n",
      "comm_round: 65 | global_loss: 1252.380126953125\n",
      "comm_round: 66 | global_loss: 1252.29833984375\n",
      "comm_round: 67 | global_loss: 1252.218994140625\n",
      "comm_round: 68 | global_loss: 1252.1278076171875\n",
      "comm_round: 69 | global_loss: 1251.994140625\n",
      "comm_round: 70 | global_loss: 1251.887939453125\n",
      "comm_round: 71 | global_loss: 1251.8106689453125\n",
      "comm_round: 72 | global_loss: 1251.6826171875\n",
      "comm_round: 73 | global_loss: 1251.565185546875\n",
      "comm_round: 74 | global_loss: 1251.577392578125\n",
      "comm_round: 75 | global_loss: 1251.482421875\n",
      "comm_round: 76 | global_loss: 1251.4031982421875\n",
      "comm_round: 77 | global_loss: 1251.341064453125\n",
      "comm_round: 78 | global_loss: 1251.2933349609375\n",
      "comm_round: 79 | global_loss: 1251.2579345703125\n",
      "comm_round: 80 | global_loss: 1251.1959228515625\n",
      "comm_round: 81 | global_loss: 1251.1517333984375\n",
      "comm_round: 82 | global_loss: 1251.1387939453125\n",
      "comm_round: 83 | global_loss: 1251.0145263671875\n",
      "comm_round: 84 | global_loss: 1250.94287109375\n",
      "comm_round: 85 | global_loss: 1250.9122314453125\n",
      "comm_round: 86 | global_loss: 1250.897705078125\n",
      "comm_round: 87 | global_loss: 1250.8775634765625\n",
      "comm_round: 88 | global_loss: 1250.8028564453125\n",
      "comm_round: 89 | global_loss: 1250.76513671875\n",
      "comm_round: 90 | global_loss: 1250.7496337890625\n",
      "comm_round: 91 | global_loss: 1250.710205078125\n",
      "comm_round: 92 | global_loss: 1250.729736328125\n",
      "comm_round: 93 | global_loss: 1250.740234375\n",
      "comm_round: 94 | global_loss: 1250.7127685546875\n",
      "comm_round: 95 | global_loss: 1250.629638671875\n",
      "comm_round: 96 | global_loss: 1250.5738525390625\n",
      "comm_round: 97 | global_loss: 1250.56884765625\n",
      "comm_round: 98 | global_loss: 1250.5484619140625\n",
      "comm_round: 99 | global_loss: 1250.5048828125\n"
     ]
    }
   ],
   "source": [
    "#initialize global model\n",
    "smlp_global = SimpleMLP()\n",
    "global_model = smlp_global.build(i, o)\n",
    "        \n",
    "#commence global training loop\n",
    "for comm_round in range(comms_round):\n",
    "    # get the global model's weights - will serve as the initial weights for all local models\n",
    "    global_weights = global_model.get_weights()\n",
    "    \n",
    "    #initial list to collect local model weights after scalling\n",
    "    scaled_local_weight_list = list()\n",
    "\n",
    "    #randomize client data - using keys\n",
    "    client_names= list(clients_batched.keys())\n",
    "    random.shuffle(client_names)\n",
    "    \n",
    "    #loop through each client and create new local model\n",
    "    for client in client_names:\n",
    "        smlp_local = SimpleMLP()\n",
    "        local_model = smlp_local.build(i, o)\n",
    "        local_model.compile(loss=loss, \n",
    "                      optimizer=optimizer, \n",
    "                      metrics=metrics)\n",
    "        \n",
    "        #set local model weight to the weight of the global model\n",
    "        local_model.set_weights(global_weights)\n",
    "        \n",
    "        #fit local model with client's data\n",
    "        local_model.fit(clients_batched[client], epochs=1, verbose=0)\n",
    "        \n",
    "        #scale the model weights and add to list\n",
    "        scaling_factor = weight_scalling_factor(clients_batched, client)\n",
    "        scaled_weights = scale_model_weights(local_model.get_weights(), scaling_factor)\n",
    "        scaled_local_weight_list.append(scaled_weights)\n",
    "        \n",
    "        #clear session to free memory after each communication round\n",
    "        K.clear_session()\n",
    "        \n",
    "    #to get the average over all the local model, we simply take the sum of the scaled weights\n",
    "    average_weights = sum_scaled_weights(scaled_local_weight_list)\n",
    "    \n",
    "    #update global model \n",
    "    global_model.set_weights(average_weights)\n",
    "\n",
    "    #test global model and print out metrics after each communications round\n",
    "    for(X_test, Y_test) in test_batched:\n",
    "        global_mse, global_loss = test_model(X_test, Y_test, global_model, comm_round)\n",
    "    hist[0].append(global_loss)\n",
    "    hist[1].append(global_mse)"
   ]
  },
  {
   "cell_type": "code",
   "execution_count": 59,
   "id": "06f0332c",
   "metadata": {},
   "outputs": [],
   "source": [
    "import matplotlib.pyplot as plt\n",
    "\n",
    "def plot(history):\n",
    "  plt.plot(history[0], label='loss')\n",
    "  #plt.plot(history[1], label='mse')\n",
    "  plt.ylim([-0.5, 10000])\n",
    "  plt.xlabel('Epoch')\n",
    "  plt.ylabel('Error [MPG]')\n",
    "  plt.legend()\n",
    "  plt.grid(True)"
   ]
  },
  {
   "cell_type": "code",
   "execution_count": 60,
   "id": "16f5d610",
   "metadata": {
    "scrolled": true
   },
   "outputs": [
    {
     "data": {
      "image/png": "[encoded data removed]",
      "text/plain": [
       "<Figure size 432x288 with 1 Axes>"
      ]
     },
     "metadata": {
      "needs_background": "light"
     },
     "output_type": "display_data"
    }
   ],
   "source": [
    "plot(hist)\n"
   ]
  },
  {
   "cell_type": "code",
   "execution_count": 61,
   "id": "55d27eed",
   "metadata": {},
   "outputs": [
    {
     "name": "stdout",
     "output_type": "stream",
     "text": [
      "Done\n"
     ]
    }
   ],
   "source": [
    "print(\"Done\")"
   ]
  },
  {
   "cell_type": "code",
   "execution_count": null,
   "id": "e9e7599b",
   "metadata": {},
   "outputs": [],
   "source": []
  },
  {
   "cell_type": "markdown",
   "id": "a9e01f91",
   "metadata": {},
   "source": [
    "### Prediction Comparisons"
   ]
  },
  {
   "cell_type": "code",
   "execution_count": 62,
   "id": "7df227af",
   "metadata": {
    "scrolled": false
   },
   "outputs": [
    {
     "data": {
      "text/plain": [
       "array([[143.76924],\n",
       "       [143.76924],\n",
       "       [143.76924],\n",
       "       [143.76924],\n",
       "       [143.76924],\n",
       "       [143.76924]], dtype=float32)"
      ]
     },
     "execution_count": 62,
     "metadata": {},
     "output_type": "execute_result"
    }
   ],
   "source": [
    "global_model.predict(X_test[0:6])"
   ]
  },
  {
   "cell_type": "code",
   "execution_count": 63,
   "id": "7329f277",
   "metadata": {
    "scrolled": false
   },
   "outputs": [
    {
     "data": {
      "text/plain": [
       "<tf.Tensor: shape=(6, 1), dtype=float32, numpy=\n",
       "array([[157. ],\n",
       "       [147. ],\n",
       "       [151. ],\n",
       "       [152. ],\n",
       "       [199.9],\n",
       "       [102. ]], dtype=float32)>"
      ]
     },
     "execution_count": 63,
     "metadata": {},
     "output_type": "execute_result"
    }
   ],
   "source": [
    "Y_test[0:6]"
   ]
  },
  {
   "cell_type": "code",
   "execution_count": null,
   "id": "eec6e647",
   "metadata": {},
   "outputs": [],
   "source": []
  },
  {
   "cell_type": "code",
   "execution_count": null,
   "id": "1b207f94",
   "metadata": {},
   "outputs": [],
   "source": []
  },
  {
   "cell_type": "markdown",
   "id": "d9c652e4",
   "metadata": {},
   "source": [
    "## Extra : Testing few things"
   ]
  },
  {
   "cell_type": "code",
   "execution_count": 64,
   "id": "938e40d9",
   "metadata": {},
   "outputs": [],
   "source": [
    "smlp_global = SimpleMLP()\n",
    "modelX = smlp_global.build(i, o)\n",
    "modelX.compile(loss='mean_absolute_error', optimizer=optimizer, metrics=metrics)"
   ]
  },
  {
   "cell_type": "code",
   "execution_count": 65,
   "id": "afeecafa",
   "metadata": {},
   "outputs": [],
   "source": [
    "history = modelX.fit(clients_batched[client], epochs=100, verbose=0)"
   ]
  },
  {
   "cell_type": "code",
   "execution_count": 66,
   "id": "aab355bb",
   "metadata": {},
   "outputs": [
    {
     "name": "stdout",
     "output_type": "stream",
     "text": [
      "comm_round: 0 | global_loss: 1445.9429931640625\n"
     ]
    }
   ],
   "source": [
    "for(X_test, Y_test) in test_batched:\n",
    "        X_acc, X_loss = test_model(X_test, Y_test, modelX, 0)\n"
   ]
  },
  {
   "cell_type": "code",
   "execution_count": 67,
   "id": "876a67e4",
   "metadata": {},
   "outputs": [
    {
     "data": {
      "text/plain": [
       "['mean_squared_error',\n",
       " 'mean_absolute_error',\n",
       " 'mean_absolute_percentage_error',\n",
       " 'cosine_proximity']"
      ]
     },
     "execution_count": 67,
     "metadata": {},
     "output_type": "execute_result"
    }
   ],
   "source": [
    "metrics"
   ]
  },
  {
   "cell_type": "code",
   "execution_count": 68,
   "id": "12d85ccf",
   "metadata": {},
   "outputs": [],
   "source": [
    "import matplotlib.pyplot as plt\n",
    "\n",
    "def plot_loss(history):\n",
    "  plt.plot(history.history['loss'], label='loss')\n",
    "  plt.plot(history.history['mean_squared_error'], label='MSE')\n",
    "  plt.plot(history.history['mean_absolute_error'], label='MAE')\n",
    "  plt.plot(history.history['mean_absolute_percentage_error'], label='MAPE')\n",
    "  plt.plot(history.history['cosine_proximity'], label='CP')\n",
    "\n",
    "  plt.ylim([-1, 2])\n",
    "  plt.xlabel('Epoch')\n",
    "  plt.ylabel('Error [MPG]')\n",
    "  plt.legend()\n",
    "  plt.grid(True)"
   ]
  },
  {
   "cell_type": "code",
   "execution_count": 69,
   "id": "0267b72a",
   "metadata": {},
   "outputs": [
    {
     "data": {
      "image/png": "[encoded data removed]",
      "text/plain": [
       "<Figure size 432x288 with 1 Axes>"
      ]
     },
     "metadata": {
      "needs_background": "light"
     },
     "output_type": "display_data"
    }
   ],
   "source": [
    "plot_loss(history)\n"
   ]
  },
  {
   "cell_type": "code",
   "execution_count": null,
   "id": "c3d77d6b",
   "metadata": {},
   "outputs": [],
   "source": []
  },
  {
   "cell_type": "code",
   "execution_count": 70,
   "id": "6548ea88",
   "metadata": {
    "scrolled": false
   },
   "outputs": [
    {
     "data": {
      "text/plain": [
       "array([[143.76924],\n",
       "       [143.76924],\n",
       "       [143.76924],\n",
       "       [143.76924],\n",
       "       [143.76924],\n",
       "       [143.76924]], dtype=float32)"
      ]
     },
     "execution_count": 70,
     "metadata": {},
     "output_type": "execute_result"
    }
   ],
   "source": [
    "global_model.predict(X_test[0:6])"
   ]
  },
  {
   "cell_type": "code",
   "execution_count": 71,
   "id": "ab423629",
   "metadata": {},
   "outputs": [
    {
     "data": {
      "text/plain": [
       "array([[132.5839],\n",
       "       [132.5839],\n",
       "       [132.5839],\n",
       "       [132.5839],\n",
       "       [132.5839],\n",
       "       [132.5839]], dtype=float32)"
      ]
     },
     "execution_count": 71,
     "metadata": {},
     "output_type": "execute_result"
    }
   ],
   "source": [
    "modelX.predict(X_test[0:6])"
   ]
  },
  {
   "cell_type": "code",
   "execution_count": 72,
   "id": "ac2e1c96",
   "metadata": {
    "scrolled": false
   },
   "outputs": [
    {
     "data": {
      "text/plain": [
       "<tf.Tensor: shape=(6, 1), dtype=float32, numpy=\n",
       "array([[157. ],\n",
       "       [147. ],\n",
       "       [151. ],\n",
       "       [152. ],\n",
       "       [199.9],\n",
       "       [102. ]], dtype=float32)>"
      ]
     },
     "execution_count": 72,
     "metadata": {},
     "output_type": "execute_result"
    }
   ],
   "source": [
    "Y_test[0:6]"
   ]
  },
  {
   "cell_type": "code",
   "execution_count": 73,
   "id": "3903c435",
   "metadata": {},
   "outputs": [
    {
     "name": "stdout",
     "output_type": "stream",
     "text": [
      "Model: \"sequential\"\n",
      "_________________________________________________________________\n",
      " Layer (type)                Output Shape              Param #   \n",
      "=================================================================\n",
      " dense (Dense)               (None, 50)                41050     \n",
      "                                                                 \n",
      " activation (Activation)     (None, 50)                0         \n",
      "                                                                 \n",
      " dropout (Dropout)           (None, 50)                0         \n",
      "                                                                 \n",
      " dense_1 (Dense)             (None, 100)               5100      \n",
      "                                                                 \n",
      " activation_1 (Activation)   (None, 100)               0         \n",
      "                                                                 \n",
      " dense_2 (Dense)             (None, 1)                 101       \n",
      "                                                                 \n",
      " activation_2 (Activation)   (None, 1)                 0         \n",
      "                                                                 \n",
      "=================================================================\n",
      "Total params: 46,251\n",
      "Trainable params: 46,251\n",
      "Non-trainable params: 0\n",
      "_________________________________________________________________\n"
     ]
    }
   ],
   "source": [
    "global_model.summary()"
   ]
  }
 ],
 "metadata": {
  "kernelspec": {
   "display_name": "Python 3 (ipykernel)",
   "language": "python",
   "name": "python3"
  },
  "language_info": {
   "codemirror_mode": {
    "name": "ipython",
    "version": 3
   },
   "file_extension": ".py",
   "mimetype": "text/x-python",
   "name": "python",
   "nbconvert_exporter": "python",
   "pygments_lexer": "ipython3",
   "version": "3.8.10"
  }
 },
 "nbformat": 4,
 "nbformat_minor": 5
}
